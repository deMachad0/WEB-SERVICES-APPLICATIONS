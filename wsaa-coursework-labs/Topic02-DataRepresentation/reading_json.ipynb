{
 "cells": [
  {
   "cell_type": "code",
   "execution_count": null,
   "metadata": {},
   "outputs": [],
   "source": [
    "# Reading Json file\n",
    "\n",
    "# Import the json module to work with JSON data\n",
    "import json\n",
    "\n",
    "# Create a dictionary called 'data' with some key-value pairs\n",
    "data = {\n",
    "    'name': 'Joe',  # Key 'name' with value 'Joe'\n",
    "    'age': 21,      # Key 'age' with value 21\n",
    "    \"student\": True # Key 'student' with value True\n",
    "}\n",
    "\n",
    "# Print the dictionary to the console\n",
    "print(data)\n",
    "\n",
    "# Open a file named 'simple.json' in write mode ('w')\n",
    "file = open(\"simple.json\", 'w')\n",
    "\n",
    "# (Commented out) Use json.dump() to write the dictionary 'data' into the file with an indentation of 4 spaces\n",
    "# json.dump(data, file, indent=4)\n",
    "\n",
    "# Convert the dictionary 'data' into a JSON-formatted string\n",
    "jsonString = json.dumps(data)\n",
    "\n",
    "# Print the JSON-formatted string to the console\n",
    "print(jsonString)\n",
    "\n",
    "# Closing the file\n",
    "file.close()"
   ]
  },
  {
   "cell_type": "code",
   "execution_count": null,
   "metadata": {},
   "outputs": [
    {
     "name": "stdout",
     "output_type": "stream",
     "text": [
      "{'employees': [{'firstName': 'John', 'lastName': 'Doe', 'Age': 32, 'Address': '41 Kavanagh'}, {'firstName': 'Anna', 'lastName': 'Smith', 'Age': 33, 'Address': '49 Hills'}, {'firstName': 'Peter', 'lastName': 'Jones', 'Age': 41, 'Address': '41 Temple'}, {'firstName': 'Jay', 'lastName': 'Donohoe', 'Age': 23, 'Address': '412 The court'}, {'firstName': 'Alfred', 'lastName': 'Catch', 'Age': 60, 'Address': '1 Smithroad'}]}\n",
      "---------------------\n",
      "John\n",
      "Anna\n",
      "Peter\n",
      "Jay\n",
      "Alfred\n"
     ]
    }
   ],
   "source": [
    "# Reading json from a file\n",
    "\n",
    "import json\n",
    "\n",
    "# Define the name of the JSON file to be read\n",
    "filename = \"employees.json\"\n",
    "\n",
    "# Open the file in read mode ('r') using a 'with' block (automatically closes the file after use)\n",
    "with open(filename, \"r\") as fp:\n",
    "    # Load the JSON data from the file and convert it into a Python dictionary (or list)\n",
    "    jsonObject = json.load(fp)\n",
    "\n",
    "# Print the entire JSON object (dictionary or list) to the console\n",
    "print(jsonObject)\n",
    "\n",
    "# Print a separator line for better readability in the output\n",
    "print(\"---------------------\")\n",
    "\n",
    "# Loop through each item in the 'employees' list (assuming 'employees' is a key in the JSON object)\n",
    "for employee in jsonObject['employees']:\n",
    "    #  Print the value of the 'firstName' key for each employee (each 'employee' is a dictionary)\n",
    "    print(employee[\"firstName\"])"
   ]
  },
  {
   "cell_type": "code",
   "execution_count": null,
   "metadata": {},
   "outputs": [],
   "source": [
    "# Reading json from a cloud\n",
    "\n",
    "# Import the requests library to make HTTP requests\n",
    "import requests\n",
    "\n",
    "# Define the URL of the API or website you want to request data from\n",
    "url = \"https://someurl.com\"\n",
    "\n",
    "# Send a GET request to the specified URL and store the response\n",
    "response = requests.get(url)\n",
    "\n",
    "# Parse the response content as JSON and convert it into a Python dictionary (or list)\n",
    "data = response.json()\n",
    "\n",
    "# Print the parsed JSON data to the console\n",
    "print(data)"
   ]
  }
 ],
 "metadata": {
  "kernelspec": {
   "display_name": "Python 3",
   "language": "python",
   "name": "python3"
  },
  "language_info": {
   "codemirror_mode": {
    "name": "ipython",
    "version": 3
   },
   "file_extension": ".py",
   "mimetype": "text/x-python",
   "name": "python",
   "nbconvert_exporter": "python",
   "pygments_lexer": "ipython3",
   "version": "3.12.6"
  }
 },
 "nbformat": 4,
 "nbformat_minor": 2
}
